{
 "cells": [
  {
   "cell_type": "code",
   "execution_count": 68,
   "metadata": {},
   "outputs": [],
   "source": [
    "from selenium import webdriver\n",
    "from selenium.webdriver.common.by import By\n",
    "from selenium.webdriver.support.ui import WebDriverWait\n",
    "from selenium.webdriver.support import expected_conditions as EC\n",
    "from selenium.common.exceptions import StaleElementReferenceException \n",
    "from selenium.common.exceptions import TimeoutException\n",
    "import time"
   ]
  },
  {
   "cell_type": "code",
   "execution_count": null,
   "metadata": {},
   "outputs": [],
   "source": [
    ".prev"
   ]
  },
  {
   "cell_type": "code",
   "execution_count": 120,
   "metadata": {},
   "outputs": [
    {
     "name": "stdout",
     "output_type": "stream",
     "text": [
      "Timeout Exception, Stopping\n"
     ]
    }
   ],
   "source": [
    "driver = webdriver.Firefox()\n",
    "#last month\n",
    "driver.get(\"https://inspections.myhealthdepartment.com/sacramento\")\n",
    "\n",
    "wait = WebDriverWait(driver, 5)\n",
    "\n",
    "date_button = wait.until(EC.element_to_be_clickable((By.CSS_SELECTOR, '#filterdate')))\n",
    "date_button.click()\n",
    "\n",
    "for i in range(10):\n",
    "    prev_button = wait.until(EC.element_to_be_clickable((By.XPATH, '/html/body/div[4]/div[2]/div[1]/table/thead/tr[1]/th[1]')))\n",
    "    prev_button.click()\n",
    "\n",
    "begin_date = wait.until(EC.element_to_be_clickable((By.XPATH, \"/html/body/div[4]/div[2]/div[1]/table/tbody/tr[1]/td[4]\")))\n",
    "begin_date.click()\n",
    "\n",
    "for i in range(8):\n",
    "    next_button = wait.until(EC.element_to_be_clickable((By.XPATH, '/html/body/div[4]/div[3]/div[1]/table/thead/tr[1]/th[3]')))\n",
    "    next_button.click()\n",
    "\n",
    "end_date = wait.until(EC.element_to_be_clickable((By.XPATH, \"/html/body/div[4]/div[3]/div[1]/table/tbody/tr[6]/td[1]\")))\n",
    "end_date.click()\n",
    "\n",
    "apply = wait.until(EC.element_to_be_clickable((By.XPATH, \"/html/body/div[4]/div[4]/button[2]\")))\n",
    "apply.click()\n",
    "\n",
    "while True:\n",
    "    try:\n",
    "        load_more_button = wait.until(EC.element_to_be_clickable((By.XPATH, '/html/body/div[3]/div[9]/div/button')))\n",
    "        load_more_button.click()\n",
    "        time.sleep(1)\n",
    "    except TimeoutException:\n",
    "        print('Timeout Exception, Stopping')\n",
    "        break\n",
    "\n",
    "view_buttons = driver.find_elements(By.XPATH, '//a[contains(text(), \"View\")]')\n",
    "\n",
    "links = [button.get_attribute('href') for button in view_buttons]\n",
    "\n",
    "driver.quit()"
   ]
  },
  {
   "cell_type": "code",
   "execution_count": 124,
   "metadata": {},
   "outputs": [],
   "source": [
    "import pickle\n",
    "\n",
    "with open(\"Data/Health2.pkl\", \"ab\") as f:\n",
    "    pickle.dump(links, f)"
   ]
  },
  {
   "cell_type": "code",
   "execution_count": 87,
   "metadata": {},
   "outputs": [
    {
     "data": {
      "text/plain": [
       "2268"
      ]
     },
     "execution_count": 87,
     "metadata": {},
     "output_type": "execute_result"
    }
   ],
   "source": [
    "import pickle\n",
    "with open(\"Data/Health.pkl\", \"rb\") as f:\n",
    "    links = pickle.load(f)\n",
    "len(links)"
   ]
  },
  {
   "cell_type": "code",
   "execution_count": 89,
   "metadata": {},
   "outputs": [],
   "source": [
    "import requests\n",
    "from bs4 import BeautifulSoup\n",
    "\n",
    "response = requests.get(links[0])\n",
    "bs = BeautifulSoup(response.text)"
   ]
  },
  {
   "cell_type": "code",
   "execution_count": 107,
   "metadata": {},
   "outputs": [
    {
     "data": {
      "text/plain": [
       "['SHADY LADY', '1409 R St Ste 101  Sacramento, CA 95811-6672']"
      ]
     },
     "execution_count": 107,
     "metadata": {},
     "output_type": "execute_result"
    }
   ],
   "source": [
    "name = bs.find_all('div', {'class':'w-col'})[1].text\n",
    "parts = name.split('\\n')\n",
    "parts = [a.strip() for a in parts if a.strip()]\n",
    "parts"
   ]
  },
  {
   "cell_type": "code",
   "execution_count": 109,
   "metadata": {},
   "outputs": [
    {
     "name": "stdout",
     "output_type": "stream",
     "text": [
      "0\n",
      "1\n",
      "2\n",
      "3\n",
      "4\n",
      "5\n",
      "6\n",
      "7\n",
      "8\n",
      "9\n",
      "10\n",
      "11\n",
      "12\n",
      "13\n",
      "14\n",
      "15\n",
      "16\n",
      "17\n",
      "18\n",
      "19\n",
      "20\n",
      "21\n",
      "22\n",
      "23\n",
      "24\n",
      "25\n",
      "26\n",
      "27\n",
      "28\n",
      "29\n",
      "30\n",
      "31\n",
      "32\n",
      "33\n",
      "34\n",
      "35\n",
      "36\n",
      "37\n",
      "38\n",
      "39\n",
      "40\n",
      "41\n",
      "42\n",
      "43\n",
      "44\n",
      "45\n",
      "46\n",
      "47\n",
      "48\n",
      "49\n"
     ]
    }
   ],
   "source": [
    "def address_get(link):\n",
    "    response = requests.get(link)\n",
    "    bs = BeautifulSoup(response.text)\n",
    "    name = bs.find_all('div', {'class':'w-col'})[1].text\n",
    "    parts = name.split('\\n')\n",
    "    parts = [a.strip() for a in parts if a.strip()]\n",
    "    return parts\n",
    "\n",
    "name_address = []\n",
    "for i in range(50):\n",
    "    url = links[i]\n",
    "    a = address_get(url)\n",
    "    name_address.append(a)\n",
    "    print(i)"
   ]
  }
 ],
 "metadata": {
  "kernelspec": {
   "display_name": "base",
   "language": "python",
   "name": "python3"
  },
  "language_info": {
   "codemirror_mode": {
    "name": "ipython",
    "version": 3
   },
   "file_extension": ".py",
   "mimetype": "text/x-python",
   "name": "python",
   "nbconvert_exporter": "python",
   "pygments_lexer": "ipython3",
   "version": "3.11.5"
  }
 },
 "nbformat": 4,
 "nbformat_minor": 2
}
