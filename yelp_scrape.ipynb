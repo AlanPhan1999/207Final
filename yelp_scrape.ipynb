{
 "cells": [
  {
   "cell_type": "code",
   "execution_count": 5,
   "metadata": {},
   "outputs": [],
   "source": [
    "import requests\n",
    "import json\n",
    "import pandas as pd\n",
    "import time\n",
    "import lxml.html as lx\n",
    "import requests_cache\n",
    "requests_cache.install_cache('yelp_cache', expire_after=3600*24)\n",
    "import re"
   ]
  },
  {
   "cell_type": "code",
   "execution_count": null,
   "metadata": {},
   "outputs": [],
   "source": [
    "raw = [] #sorted by distance\n",
    "error_offsets = []\n",
    "for i in range(0,1000,50):\n",
    "    try:\n",
    "        url = f\"https://api.yelp.com/v3/businesses/search?location=sacramento&sort_by=distance&limit=50&offset={i}\"\n",
    "        response = requests.get(url, headers=headers)\n",
    "        list_fifty_rest = json.loads(response.text)[\"businesses\"]\n",
    "        raw.extend(list_fifty_rest)\n",
    "        time.sleep(1)\n",
    "    except:\n",
    "        error_offsets.append[i]"
   ]
  },
  {
   "cell_type": "code",
   "execution_count": 94,
   "metadata": {},
   "outputs": [],
   "source": [
    "with open(\"yelp_raw.json\", \"w\") as json_file:\n",
    "    json.dump(raw, json_file)"
   ]
  },
  {
   "cell_type": "code",
   "execution_count": 335,
   "metadata": {},
   "outputs": [],
   "source": [
    "file_path = 'yelp_raw.json'\n",
    "with open(file_path, 'r') as file:\n",
    "    raw = json.load(file)"
   ]
  },
  {
   "cell_type": "code",
   "execution_count": 336,
   "metadata": {},
   "outputs": [],
   "source": [
    "def clean_raw(single, key):\n",
    "    element_dict_cleaned = {}\n",
    "    element_dict_cleaned['alias'] = single['alias']\n",
    "    element_dict_cleaned['name'] = single['name']\n",
    "    element_dict_cleaned['review_count'] = single['review_count']\n",
    "    element_dict_cleaned['categories'] = list(map(lambda x: x['title'], single['categories']))\n",
    "    element_dict_cleaned[\"display_address\"] = single['location']['display_address']\n",
    "    element_dict_cleaned[\"addy_one\"] = single['location']['address1']\n",
    "    element_dict_cleaned[\"addy_two\"] = single['location']['address3']\n",
    "    element_dict_cleaned[\"addy_three\"] = single['location']['address3']\n",
    "    element_dict_cleaned['city'] = single['location']['city']\n",
    "    element_dict_cleaned['zip_code'] = single['location']['zip_code']\n",
    "    element_dict_cleaned['phone'] = single['phone']\n",
    "    \n",
    "    street_number = re.search(r'\\d+',single['location']['address1']).group()\n",
    "    first_three_chars = re.sub(r'\\W+','', single['alias']).lower()[:3]\n",
    "    unique_key = f\"{street_number}-{first_three_chars}\"\n",
    "\n",
    "    if key == \"D\":\n",
    "        key = single['id']\n",
    "    if key == \"C\":\n",
    "        key = unique_key\n",
    "\n",
    "    return (key,element_dict_cleaned)"
   ]
  },
  {
   "cell_type": "code",
   "execution_count": 337,
   "metadata": {},
   "outputs": [
    {
     "data": {
      "text/plain": [
       "60"
      ]
     },
     "execution_count": 337,
     "metadata": {},
     "output_type": "execute_result"
    }
   ],
   "source": [
    "yelp_clean = {}\n",
    "bad_index =[]\n",
    "for i,element in enumerate(raw):\n",
    "    try:\n",
    "        key, element = clean_raw(element,\"D\")\n",
    "        yelp_clean[key]=element\n",
    "    except:\n",
    "        bad_index.append(i)\n",
    "        continue \n",
    "len(bad_index)"
   ]
  },
  {
   "cell_type": "code",
   "execution_count": 338,
   "metadata": {},
   "outputs": [],
   "source": [
    "yelp_clean_2 = {}\n",
    "bad_index_2 =[]\n",
    "duplicated = []\n",
    "for i,element in enumerate(raw):\n",
    "    try:\n",
    "        key, element = clean_raw(element, \"C\")\n",
    "        if key in list(yelp_clean_2.keys()):\n",
    "            duplicated.append(key,i)\n",
    "            print(i)\n",
    "        yelp_clean_2[key]=element\n",
    "\n",
    "    except:\n",
    "        bad_index_2.append(i)\n",
    "        continue"
   ]
  },
  {
   "cell_type": "code",
   "execution_count": 339,
   "metadata": {},
   "outputs": [
    {
     "data": {
      "text/plain": [
       "923"
      ]
     },
     "execution_count": 339,
     "metadata": {},
     "output_type": "execute_result"
    }
   ],
   "source": [
    "len(yelp_clean_2)"
   ]
  },
  {
   "cell_type": "markdown",
   "metadata": {},
   "source": [
    "sort by most_rated"
   ]
  },
  {
   "cell_type": "code",
   "execution_count": 333,
   "metadata": {},
   "outputs": [],
   "source": [
    "raw_most_rated = [] #sorted by best-match\n",
    "error_offsets = []\n",
    "for i in range(0,1000,50):\n",
    "    try:\n",
    "        url = f\"https://api.yelp.com/v3/businesses/search?location=sacramento&sort_by=best_match&limit=50&offset={i}\"\n",
    "        response = requests.get(url, headers=headers)\n",
    "        list_fifty_rest = json.loads(response.text)[\"businesses\"]\n",
    "        raw_most_rated.extend(list_fifty_rest)\n",
    "        time.sleep(1)\n",
    "    except:\n",
    "        error_offsets.append[i]"
   ]
  },
  {
   "cell_type": "code",
   "execution_count": 334,
   "metadata": {},
   "outputs": [
    {
     "data": {
      "text/plain": [
       "1000"
      ]
     },
     "execution_count": 334,
     "metadata": {},
     "output_type": "execute_result"
    }
   ],
   "source": [
    "with open(\"yelp_raw_most_rated.json\", \"w\") as json_file:\n",
    "    json.dump(raw, json_file)"
   ]
  },
  {
   "cell_type": "code",
   "execution_count": 351,
   "metadata": {},
   "outputs": [
    {
     "data": {
      "text/plain": [
       "499"
      ]
     },
     "execution_count": 351,
     "metadata": {},
     "output_type": "execute_result"
    }
   ],
   "source": [
    "ids_raw=[]\n",
    "for i in raw:\n",
    "    ids_raw.append(i['id'])\n",
    "\n",
    "ids_raw_best = []\n",
    "for i in raw_most_rated:\n",
    "    ids_raw_best.append(i['id'])\n",
    "\n",
    "tt = set(ids_raw).intersection(ids_raw_best)\n",
    "len(tt)"
   ]
  },
  {
   "cell_type": "code",
   "execution_count": 344,
   "metadata": {},
   "outputs": [
    {
     "data": {
      "text/plain": [
       "'myoaFyZ9RIG_p2rkOQiWlA'"
      ]
     },
     "execution_count": 344,
     "metadata": {},
     "output_type": "execute_result"
    }
   ],
   "source": [
    "raw_most_rated[1]['id']"
   ]
  },
  {
   "cell_type": "code",
   "execution_count": 352,
   "metadata": {},
   "outputs": [],
   "source": [
    "yelp_clean_3 = yelp_clean_2\n",
    "duplicated = []\n",
    "bad_index_3 = []\n",
    "for i,element in enumerate(raw_most_rated):\n",
    "    try:\n",
    "        key, element = clean_raw(element, \"C\")\n",
    "        if key in list(yelp_clean_2.keys()):\n",
    "            duplicated.append(key,i)\n",
    "            print(i)\n",
    "        yelp_clean_3[key]=element\n",
    "\n",
    "    except:\n",
    "        bad_index_3.append(i)\n",
    "        continue"
   ]
  },
  {
   "cell_type": "code",
   "execution_count": 353,
   "metadata": {},
   "outputs": [
    {
     "data": {
      "text/plain": [
       "1410"
      ]
     },
     "execution_count": 353,
     "metadata": {},
     "output_type": "execute_result"
    }
   ],
   "source": [
    "len(list(yelp_clean_3.keys()))"
   ]
  },
  {
   "cell_type": "markdown",
   "metadata": {},
   "source": [
    "sort by review_count"
   ]
  },
  {
   "cell_type": "code",
   "execution_count": null,
   "metadata": {},
   "outputs": [],
   "source": [
    "raw_review_count = [] #sorted by distance\n",
    "error_offsets = []\n",
    "for i in range(0,1000,50):\n",
    "    try:\n",
    "        url = f\"https://api.yelp.com/v3/businesses/search?location=sacramento&sort_by=review_count&limit=50&offset={i}\"\n",
    "        response = requests.get(url, headers=headers)\n",
    "        list_fifty_rest = json.loads(response.text)[\"businesses\"]\n",
    "        raw_review_count.extend(list_fifty_rest)\n",
    "        #print(i)\n",
    "        time.sleep(1)\n",
    "    except:\n",
    "        error_offsets.append(i)"
   ]
  },
  {
   "cell_type": "code",
   "execution_count": null,
   "metadata": {},
   "outputs": [],
   "source": [
    "url = f\"https://api.yelp.com/v3/businesses/search?location=sacramento&sort_by=review_count&limit=50&offset=900\"\n",
    "response = requests.get(url, headers=headers)\n",
    "#list_fifty_rest = json.loads(response.text)[\"businesses\"]\n",
    "response.text"
   ]
  },
  {
   "cell_type": "code",
   "execution_count": 369,
   "metadata": {},
   "outputs": [],
   "source": [
    "yelp_clean_final = yelp_clean_3\n",
    "duplicated = []\n",
    "bad_index_4 = []\n",
    "for i,element in enumerate(raw_review_count):\n",
    "    try:\n",
    "        key, element = clean_raw(element, \"C\")\n",
    "        if key in list(yelp_clean_3.keys()):\n",
    "            duplicated.append(key,i)\n",
    "            print(i)\n",
    "        yelp_clean_final[key]=element\n",
    "\n",
    "    except:\n",
    "        bad_index_4.append(i)\n",
    "        continue\n"
   ]
  },
  {
   "cell_type": "code",
   "execution_count": 370,
   "metadata": {},
   "outputs": [
    {
     "data": {
      "text/plain": [
       "1885"
      ]
     },
     "execution_count": 370,
     "metadata": {},
     "output_type": "execute_result"
    }
   ],
   "source": [
    "len(yelp_clean_final.keys())"
   ]
  },
  {
   "cell_type": "code",
   "execution_count": 371,
   "metadata": {},
   "outputs": [],
   "source": [
    "with open(\"yelp_cleaned.json\", \"w\") as json_file:\n",
    "    json.dump(yelp_clean_final, json_file)"
   ]
  }
 ],
 "metadata": {
  "kernelspec": {
   "display_name": "base",
   "language": "python",
   "name": "python3"
  },
  "language_info": {
   "codemirror_mode": {
    "name": "ipython",
    "version": 3
   },
   "file_extension": ".py",
   "mimetype": "text/x-python",
   "name": "python",
   "nbconvert_exporter": "python",
   "pygments_lexer": "ipython3",
   "version": "3.11.3"
  }
 },
 "nbformat": 4,
 "nbformat_minor": 2
}
